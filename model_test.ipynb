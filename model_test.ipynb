{
 "cells": [
  {
   "cell_type": "code",
   "execution_count": 16,
   "metadata": {},
   "outputs": [],
   "source": [
    "import pickle\n",
    "import pandas as pd\n",
    "import numpy as np\n",
    "import re\n",
    "from sklearn.externals import joblib\n",
    "from sklearn.feature_extraction.text import CountVectorizer\n",
    "from sklearn.feature_extraction.text import TfidfTransformer\n",
    "from sklearn.preprocessing import LabelEncoder"
   ]
  },
  {
   "cell_type": "code",
   "execution_count": 17,
   "metadata": {},
   "outputs": [],
   "source": [
    "def top_n_list(data, n):\n",
    "\treturn list(map(lambda x: np.argpartition(x, -n)[-n:][0],data))\n",
    "\n",
    "\n",
    "def top_n(result, n):\n",
    "    N = n\n",
    "    predict = pd.DataFrame([top_n_list(result, i) for i in np.arange(1, N+1)]).T\n",
    "    predict.columns = [\"Top\" + i for i in list(np.arange(1,N+1).astype(str))]\n",
    "    return predict\n",
    "\n",
    "def top_n_label(predict, encoder):\n",
    "#    predict['label'] = label.tolist()\n",
    "    for i in predict.columns.tolist():\n",
    "        if re.search(\"Top\", i) is not None:\n",
    "            predict[i] = encoder.inverse_transform(predict[i])\n",
    "        else:\n",
    "            pass\n",
    "    return predict"
   ]
  },
  {
   "cell_type": "code",
   "execution_count": 24,
   "metadata": {},
   "outputs": [],
   "source": [
    "def predict_category(option):\n",
    "    model = joblib.load('models/svm2.pkl')\n",
    "    en = LabelEncoder()\n",
    "    en.classes_ = np.load('classes.npy')\n",
    "    keywords = option\n",
    "\n",
    "    print(\"aa\")\n",
    "#\twith open('/opt/app1/download/cv.pkl', 'rb') as f:\n",
    "#\t\tcount_vect = pickle.load(f)\n",
    "#\twith open('/opt/app1/download/tfidf.pkl', 'rb') as f:\n",
    "#\t\ttfidf_transformer = pickle.load(f)\n",
    "\n",
    "    count_vect = pickle.load(open('cv.pkl', 'rb'))\n",
    "    tfidf_transformer = pickle.load(open('tfidf.pkl', 'rb'))\n",
    "\n",
    "    keywords = pd.Series([keywords])\n",
    "    keywords_count = count_vect.transform(keywords)\n",
    "    keywords_tfidf = tfidf_transformer.transform(keywords_count)\n",
    "\n",
    "    temp = model.predict_proba(keywords_tfidf)\n",
    "    predict = top_n(temp, 3)\n",
    "    predict = top_n_label(predict, en)\n",
    "    print(predict)\n",
    "    print('The category is estimated to be : ' + str(predict.iloc[0][0]) +'\\n')\n",
    "    return str(predict.iloc[0])"
   ]
  },
  {
   "cell_type": "code",
   "execution_count": 25,
   "metadata": {},
   "outputs": [
    {
     "name": "stdout",
     "output_type": "stream",
     "text": [
      "aa\n",
      "     Top1    Top2    Top3\n",
      "0  600100  320080  320030\n",
      "The category is estimated to be : 600100\n",
      "\n"
     ]
    },
    {
     "data": {
      "text/plain": [
       "'Top1    600100\\nTop2    320080\\nTop3    320030\\nName: 0, dtype: int64'"
      ]
     },
     "execution_count": 25,
     "metadata": {},
     "output_type": "execute_result"
    }
   ],
   "source": [
    "predict_category(\"그램 판매\")"
   ]
  },
  {
   "cell_type": "code",
   "execution_count": null,
   "metadata": {},
   "outputs": [],
   "source": []
  }
 ],
 "metadata": {
  "kernelspec": {
   "display_name": "Python 3",
   "language": "python",
   "name": "python3"
  },
  "language_info": {
   "codemirror_mode": {
    "name": "ipython",
    "version": 3
   },
   "file_extension": ".py",
   "mimetype": "text/x-python",
   "name": "python",
   "nbconvert_exporter": "python",
   "pygments_lexer": "ipython3",
   "version": "3.7.4"
  }
 },
 "nbformat": 4,
 "nbformat_minor": 2
}
