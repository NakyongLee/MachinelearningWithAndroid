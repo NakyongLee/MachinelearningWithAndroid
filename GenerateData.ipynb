import pandas as pd

data = pd.read_csv('chunk0.csv', encoding='utf-8')
data.head() #확인
col = ['name', 'keyword', 'category_id', 'description']
data = data[col]
data.columns
data.columns = ['name', 'keyword', 'category_id', 'description']
data = data[pd.notnull(data['keyword'])]
data.to_csv("test.csv", encoding="utf-8")#test.csv로 만들어짐


#특수문자 제거
import re
re_sc = re.compile('[\!@#$%\^&\*\(\)\-=_\[\]\{\}\.,/\?~\+\'"|]')

data['name'] = data['name'].str.replace(pat = r'[★\!@#$%\^&\*\(\)\-=_\[\]\{\}\.,/\?~\+\'"|]', repl=r' ', regex=True) #특수문자제거
data['name'] = data['name'].str.replace(pat=r'[\s\s+]', repl= r' ', regex=True) #불필요한 공백
data['keyword'] = data['keyword'].str.replace(pat = r'[★\!@#$%\^&\*\(\)\-=_\[\]\{\}\.,/\?~\+\'"|]', repl=r' ', regex=True)
data['keyword'] = data['keyword'].str.replace(pat=r'[\s\s+]', repl= r' ', regex=True)
data['description'] = data['description'].str.replace(pat = r'[★\!@#$%\^&\*\(\)\-=_\[\]\{\}\.,/\?~\+\'"|]', repl=r' ', regex=True)
data['description'] = data['desctiption'].str.replace(pat=r'[\s\s+]', repl= r' ', regex=True)

display(data)#데이터 출력
